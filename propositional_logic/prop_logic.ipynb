{
 "metadata": {
  "language_info": {
   "codemirror_mode": {
    "name": "ipython",
    "version": 3
   },
   "file_extension": ".py",
   "mimetype": "text/x-python",
   "name": "python",
   "nbconvert_exporter": "python",
   "pygments_lexer": "ipython3",
   "version": 3
  },
  "orig_nbformat": 2
 },
 "nbformat": 4,
 "nbformat_minor": 2,
 "cells": [
  {
   "source": [
    "# Propositional logic\n",
    "Do Hyun Nam, A01025276\n",
    "### What is propositional logic\n",
    "Propositional logic is an affirmative statement based on a full sentient and logic\n",
    "It is all about the following:\n",
    "- How to write symbolically the propositions (sintaxis)\n",
    "- How to establich truth conditions of the propositions through truth tables\n",
    "- How to infer with validity the propositions from other propositions\n",
    "\n",
    "### Atomic propositions\n",
    "Atomic propositions make affirmative statements of a single event. \n",
    "They can be divided into simpler propositions.\n",
    "\n",
    "### Molecular propositions\n",
    "Propositions built from atomic propositions with the implementation of logical conectors.\n",
    "\n",
    "## Symbols\n",
    "Ordered by levels\n",
    "- Negation: $\\lnot$ -> not\n",
    "- Conjunction: $\\land$ -> and\n",
    "- Disjunction: $\\lor$ -> or\n",
    "- Implication: $\\rightarrow$ -> if... else\n",
    "\n",
    "$ p \\land \\lnot  q \\rightarrow \\lnot r \\lor q= $\n",
    "\n",
    "\n"
   ],
   "cell_type": "markdown",
   "metadata": {}
  },
  {
   "source": [
    "## Ejercicio 1\n",
    "Traduce lo siguiente:\n",
    "1. Si el porcentaje de ocupación de camas con ventilador está dentro del intervalo (0.5, 0.599) entonces el nivel de riesgo sube dos puntos.\n",
    "2. El nivel de riesgo no sube dos puntos.\n",
    "3. El porcentaje de ocupación de camas con ventilador no está dentro del intervalo (0.5, 0.599).\n",
    "\n",
    "### Traducciones\n",
    "1.\n",
    "$p =$ ...el porcentaje de ocupación de camas con ventilador está dentro del intervalo (0.5, 0.599)\n",
    "\n",
    "$q =$ el nivel de riesgo sube dos puntos\n",
    "\n",
    "$\\rightarrow =$ si... entonces\n",
    "\n",
    "$p \\rightarrow q$\n",
    "\n",
    "2.\n",
    "$n = $El nivel de riesgo sube dos puntos\n",
    "\n",
    "$\\lnot n$\n",
    "\n",
    "3.\n",
    "$p =$ El porcentaje de ocupación de camas con ventilador está dentro del intervalo (0.5, 0.599) \n",
    "\n",
    "$\\lnot p$"
   ],
   "cell_type": "markdown",
   "metadata": {}
  }
 ]
}